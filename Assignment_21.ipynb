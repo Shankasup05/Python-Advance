{
 "cells": [
  {
   "cell_type": "markdown",
   "id": "e810e3e7",
   "metadata": {},
   "source": [
    "### Q1. What is a probability distribution, exactly? If the values are meant to be random, how can you predict them at all?"
   ]
  },
  {
   "cell_type": "markdown",
   "id": "4c0ef158",
   "metadata": {},
   "source": [
    "A probability distribution describes how a random variable is distributed,\n",
    "\n",
    "it tells us which values a random variable is most likely to take on and \n",
    "\n",
    "which values are less likely.Based on the previous data and \n",
    "\n",
    "the occurences of the random event, we can predict the outcome in terms of probabilities."
   ]
  },
  {
   "cell_type": "markdown",
   "id": "e661d6e1",
   "metadata": {},
   "source": [
    "### Q2. Is there a distinction between true random numbers and pseudo-random numbers, if there is one? Why are the latter considered “good enough”?"
   ]
  },
  {
   "cell_type": "markdown",
   "id": "e085967a",
   "metadata": {},
   "source": [
    " The difference between true random number(TRN) and pseudo-random number(PRN), is that TRN's are unpredictable \n",
    "      \n",
    "physical values means (like atmospheric noise), and PRN are generated using mathematical algorithms (completely\n",
    "      \n",
    "computer-generated).The PRN's are good enough as they follow a uniform distribution and the seed for generating\n",
    "    \n",
    "PRN is unpredictable and unknown."
   ]
  },
  {
   "cell_type": "markdown",
   "id": "43390dfa",
   "metadata": {},
   "source": [
    "### Q3. What are the two main factors that influence the behaviour of a &quot;normal&quot; probability distribution?"
   ]
  },
  {
   "cell_type": "markdown",
   "id": "f59c7be9",
   "metadata": {},
   "source": [
    "A normal distribution is determined by two parameters the mean and the variance. A normal distribution with a \n",
    "\n",
    "mean of 0 and a standard deviation of 1 is called a standard normal distribution."
   ]
  },
  {
   "cell_type": "markdown",
   "id": "9f492261",
   "metadata": {},
   "source": [
    "### Q4. Provide a real-life example of a normal distribution."
   ]
  },
  {
   "cell_type": "markdown",
   "id": "32cd7d98",
   "metadata": {},
   "source": [
    "A fair rolling of dice is also a good example of normal distribution."
   ]
  },
  {
   "cell_type": "markdown",
   "id": "6717fe5c",
   "metadata": {},
   "source": [
    "### Q5. In the short term, how can you expect a probability distribution to behave? What do you think will happen as the number of trials grows?"
   ]
  },
  {
   "cell_type": "markdown",
   "id": "9feb81a3",
   "metadata": {},
   "source": [
    "When trails are less, the variance will large. As the number of trials increase , the variance will reduce."
   ]
  },
  {
   "cell_type": "markdown",
   "id": "5f597993",
   "metadata": {},
   "source": [
    "### Q6. What kind of object can be shuffled by using random.shuffle?"
   ]
  },
  {
   "cell_type": "markdown",
   "id": "ab67895a",
   "metadata": {},
   "source": [
    "random.shuffle can used to shuffle list object"
   ]
  },
  {
   "cell_type": "markdown",
   "id": "4ce24293",
   "metadata": {},
   "source": [
    "### Q7. Describe the math package&#39;s general categories of functions."
   ]
  },
  {
   "cell_type": "markdown",
   "id": "2a3a0d1b",
   "metadata": {},
   "source": [
    " The general categories of math package are\n",
    "      \n",
    "    1) Trigonometric functions\n",
    "      \n",
    "    2)Quadratic functions\n",
    "      \n",
    "    3)Exponential functions\n",
    "      \n",
    "    4)Hyperbolic functions\n",
    "      \n",
    "    5)Periodic functions\n",
    "    \n",
    "    6)Arithmetic functions\n",
    "    \n",
    "    7)Logarithimic functions\n",
    "    \n",
    "    8)Conversions to Integer"
   ]
  },
  {
   "cell_type": "markdown",
   "id": "b5ae8e00",
   "metadata": {},
   "source": [
    "### Q8. What is the relationship between exponentiation and logarithms?"
   ]
  },
  {
   "cell_type": "markdown",
   "id": "1e77b421",
   "metadata": {},
   "source": [
    "The exponential function is given by ƒ(x) = ex, whereas the logarithmic function is given by g(x) = ln x, and \n",
    "\n",
    "former is the inverse of the latter."
   ]
  },
  {
   "cell_type": "markdown",
   "id": "ceb075e6",
   "metadata": {},
   "source": [
    "### Q9. What are the three logarithmic functions that Python supports?"
   ]
  },
  {
   "cell_type": "markdown",
   "id": "32bba8cd",
   "metadata": {},
   "source": [
    " 1)log2(x) - logarithmic value of x to base 2\n",
    "      \n",
    "2)log10(x) - logarithmic value of x to base 10\n",
    "\n",
    "3)log(x,base) - logarithmic value of x to base. If only first parameter is given , it computes its value tp base e,natural logarithm\n",
    "\n",
    "4)log1p(x) - natural logarithm (base e) value of 1+x"
   ]
  },
  {
   "cell_type": "code",
   "execution_count": null,
   "id": "f6a541ca",
   "metadata": {},
   "outputs": [],
   "source": []
  }
 ],
 "metadata": {
  "kernelspec": {
   "display_name": "Python 3 (ipykernel)",
   "language": "python",
   "name": "python3"
  },
  "language_info": {
   "codemirror_mode": {
    "name": "ipython",
    "version": 3
   },
   "file_extension": ".py",
   "mimetype": "text/x-python",
   "name": "python",
   "nbconvert_exporter": "python",
   "pygments_lexer": "ipython3",
   "version": "3.9.12"
  }
 },
 "nbformat": 4,
 "nbformat_minor": 5
}
