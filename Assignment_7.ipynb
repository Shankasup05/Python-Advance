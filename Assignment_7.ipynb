{
 "cells": [
  {
   "cell_type": "markdown",
   "id": "59be0e8b",
   "metadata": {},
   "source": [
    "### Q1. What is the purpose of the try statement?"
   ]
  },
  {
   "cell_type": "markdown",
   "id": "8bc4bdbf",
   "metadata": {},
   "source": [
    "Try statement is used to trigger exception. If code in try block causes some run time error, then try will throw an exception. Exception is caught by except block."
   ]
  },
  {
   "cell_type": "markdown",
   "id": "9dcdb656",
   "metadata": {},
   "source": [
    "### Q2. What are the two most popular try statement variations?"
   ]
  },
  {
   "cell_type": "markdown",
   "id": "d730a6c8",
   "metadata": {},
   "source": [
    "IOError – It occurs on errors like a file fails to open. ImportError – If a python module can’t be loaded or located. KeyboardInterrupt : when an unrequired key is pressed by the user ValueError : when built-in function receives a wrong argument EOFError : if End-Of-File is hit without reading any data\n",
    "\n",
    "Working -\n",
    "\n",
    "First, try clause is executed i.e. the code between try and except clause. If there is no exception, then only try clause will run, except clause is finished. If any exception occured, try clause will be skipped and except clause will run. If any exception occurs, but the except clause within the code doesn’t handle it, it is passed on to the outer try statements. If the exception left unhandled, then the execution stops. A try statement can have more than one except clause"
   ]
  },
  {
   "cell_type": "markdown",
   "id": "d77956a4",
   "metadata": {},
   "source": [
    "### Q3. What is the purpose of the raise statement?"
   ]
  },
  {
   "cell_type": "markdown",
   "id": "7f527818",
   "metadata": {},
   "source": [
    "Raise statement is used to raise an exception. You can define what kind of error to raise."
   ]
  },
  {
   "cell_type": "markdown",
   "id": "3771ab5e",
   "metadata": {},
   "source": [
    "### Q4. What does the assert statement do, and what other statement is it like?"
   ]
  },
  {
   "cell_type": "code",
   "execution_count": 3,
   "id": "fbb6147c",
   "metadata": {},
   "outputs": [
    {
     "name": "stdout",
     "output_type": "stream",
     "text": [
      "-1\n"
     ]
    },
    {
     "ename": "AssertionError",
     "evalue": "number should be greater than 0",
     "output_type": "error",
     "traceback": [
      "\u001b[1;31m---------------------------------------------------------------------------\u001b[0m",
      "\u001b[1;31mAssertionError\u001b[0m                            Traceback (most recent call last)",
      "Input \u001b[1;32mIn [3]\u001b[0m, in \u001b[0;36m<cell line: 2>\u001b[1;34m()\u001b[0m\n\u001b[0;32m      1\u001b[0m x \u001b[38;5;241m=\u001b[39m \u001b[38;5;28mint\u001b[39m(\u001b[38;5;28minput\u001b[39m())\n\u001b[1;32m----> 2\u001b[0m \u001b[38;5;28;01massert\u001b[39;00m  x \u001b[38;5;241m>\u001b[39m \u001b[38;5;241m0\u001b[39m, \u001b[38;5;124m\"\u001b[39m\u001b[38;5;124mnumber should be greater than 0\u001b[39m\u001b[38;5;124m\"\u001b[39m\n\u001b[0;32m      3\u001b[0m \u001b[38;5;28mprint\u001b[39m(\u001b[38;5;124m\"\u001b[39m\u001b[38;5;124meven\u001b[39m\u001b[38;5;124m\"\u001b[39m)\n",
      "\u001b[1;31mAssertionError\u001b[0m: number should be greater than 0"
     ]
    }
   ],
   "source": [
    "x = int(input())\n",
    "assert  x > 0, \"number should be greater than 0\"\n",
    "print(\"even\")\n"
   ]
  },
  {
   "cell_type": "markdown",
   "id": "15b11d85",
   "metadata": {},
   "source": [
    "### Q5. What is the purpose of the with/as argument, and what other statement is it like?"
   ]
  },
  {
   "cell_type": "markdown",
   "id": "30d77a75",
   "metadata": {},
   "source": [
    "with statement in Python is used in exception handling to make the code cleaner and much more readable. It simplifies the management of common resources like file streams. The with statement itself ensures proper acquisition and release of resources. This allows common try…except…finally usage patterns to be encapsulated for convenient reuse.\n",
    "\n",
    "when \"as\" is used after \"with\", it will reassign the the returned object to a new identifier."
   ]
  },
  {
   "cell_type": "code",
   "execution_count": null,
   "id": "8eebfd32",
   "metadata": {},
   "outputs": [],
   "source": []
  }
 ],
 "metadata": {
  "kernelspec": {
   "display_name": "Python 3 (ipykernel)",
   "language": "python",
   "name": "python3"
  },
  "language_info": {
   "codemirror_mode": {
    "name": "ipython",
    "version": 3
   },
   "file_extension": ".py",
   "mimetype": "text/x-python",
   "name": "python",
   "nbconvert_exporter": "python",
   "pygments_lexer": "ipython3",
   "version": "3.9.12"
  }
 },
 "nbformat": 4,
 "nbformat_minor": 5
}
