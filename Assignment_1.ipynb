{
 "cells": [
  {
   "cell_type": "markdown",
   "id": "42a901aa",
   "metadata": {},
   "source": [
    "### Q1. What is the purpose of Python&#39;s OOP?"
   ]
  },
  {
   "cell_type": "markdown",
   "id": "0c32f4e7",
   "metadata": {},
   "source": [
    "1-Provides a clear program structure and a clean code\n",
    "\n",
    "2-Facilitates easy maintenance and modification of existing code.\n",
    "\n",
    "3-Since the class is sharable, the code can be reused and many other such Advantages."
   ]
  },
  {
   "cell_type": "markdown",
   "id": "ebf2dbec",
   "metadata": {},
   "source": [
    "### Q2. Where does an inheritance search look for an attribute?"
   ]
  },
  {
   "cell_type": "markdown",
   "id": "39598285",
   "metadata": {},
   "source": [
    "Attribute fetches are simply tree searches. The term inheritance is applied because objects lower in a tree inherit attributes attached to objects higher in that tree. As the search proceeds from the bottom up, in a sense, the objects linked into a tree are the union of all the attributes defined in all their tree parents, all the way up the tree."
   ]
  },
  {
   "cell_type": "markdown",
   "id": "e00317b6",
   "metadata": {},
   "source": [
    "### Q3. How do you distinguish between a class object and an instance object?"
   ]
  },
  {
   "cell_type": "markdown",
   "id": "58641e95",
   "metadata": {},
   "source": [
    "Objects and Instances are almost similar and are often used interchangeably but with a small difference. Object is a generic term , it is physically present but remains undiferrentiated. Instance is something that gives them a separate identity.\n",
    "\n",
    "Object is the physical entity for which memory is allocated. Object contains many instances.\n",
    "\n",
    "Instance : An instance is also the physical manifestation of a class that occupies memory and has data members.\n",
    "\n",
    "e.g. There is Class car, when I create c = car(), c is object. When we create different object with different specifications(car name, type, company) such as i10, i20, Creta, audi7 are called as instances which actually exists."
   ]
  },
  {
   "cell_type": "markdown",
   "id": "5f30343d",
   "metadata": {},
   "source": [
    "### Q4. What makes the first argument in a class’s method function special?"
   ]
  },
  {
   "cell_type": "markdown",
   "id": "95f7e91a",
   "metadata": {},
   "source": [
    "Self represents the instance of the class. By using the “self” keyword we can access the attributes and methods of the class in python. It binds the attributes with the given arguments.The reason you need to use self. is because Python does not use the @ syntax to refer to instance attributes. Python decided to do methods in a way that makes the instance to which the method belongs be passed automatically, but not received automatically: the first parameter of methods is the instance the method is called on."
   ]
  },
  {
   "cell_type": "markdown",
   "id": "73312451",
   "metadata": {},
   "source": [
    "### Q5. What is the purpose of the __init__ method?"
   ]
  },
  {
   "cell_type": "markdown",
   "id": "9bcdcfe9",
   "metadata": {},
   "source": [
    "The task of init method is to initialize(assign values) to the data members of the class when an object of class is created. It contains collection of statements that are executed at time of Object creation. It is run as soon as an object of a class is instantiated. The method is useful to do any initialization you want to do with your object."
   ]
  },
  {
   "cell_type": "markdown",
   "id": "68860001",
   "metadata": {},
   "source": [
    "### Q6. What is the process for creating a class instance?"
   ]
  },
  {
   "cell_type": "markdown",
   "id": "837c6586",
   "metadata": {},
   "source": [
    "To create instances of a class, you call the class using class name and pass in whatever arguments its init method accepts."
   ]
  },
  {
   "cell_type": "markdown",
   "id": "ab4d2b38",
   "metadata": {},
   "source": [
    "### Q7. What is the process for creating a class?"
   ]
  },
  {
   "cell_type": "markdown",
   "id": "ecb747bb",
   "metadata": {},
   "source": [
    "The class statement creates a new class definition. The name of the class immediately follows the keyword class followed by a colon.Explained below"
   ]
  },
  {
   "cell_type": "code",
   "execution_count": 3,
   "id": "4bcd8c55",
   "metadata": {},
   "outputs": [
    {
     "data": {
      "text/plain": [
       "30"
      ]
     },
     "execution_count": 3,
     "metadata": {},
     "output_type": "execute_result"
    }
   ],
   "source": [
    "class Dimension:\n",
    "    def __init__(self,a,b):\n",
    "        self.a = a\n",
    "        self.b = b\n",
    "        \n",
    "    def area(self):\n",
    "        return (self.a * self.b)\n",
    "\n",
    "value = Dimension(3,10)\n",
    "value.area()"
   ]
  },
  {
   "cell_type": "markdown",
   "id": "ceaaec39",
   "metadata": {},
   "source": [
    "### Q8. How would you define the superclasses of a class?"
   ]
  },
  {
   "cell_type": "markdown",
   "id": "00c99f14",
   "metadata": {},
   "source": [
    "A superclass is the class from which many subclasses can be created. The subclasses inherit the characteristics of a superclass. The superclass is also known as the parent class or base class."
   ]
  },
  {
   "cell_type": "code",
   "execution_count": 4,
   "id": "d4df87d5",
   "metadata": {},
   "outputs": [
    {
     "name": "stdout",
     "output_type": "stream",
     "text": [
      "this is method of class A\n",
      "this is method of class B\n",
      "this is method of class A\n",
      "this is method of class A\n",
      "this is method of class A\n"
     ]
    }
   ],
   "source": [
    "class A:\n",
    "    def method_A(self):\n",
    "        return \"this is method of class A\"\n",
    "    \n",
    "class B(A):\n",
    "    def method_B(self):\n",
    "        return \"this is method of class B\"\n",
    "\n",
    "class C(A):\n",
    "    def method_B(self):\n",
    "        return \"this is method of class C\"\n",
    "    \n",
    "class D(A):\n",
    "    def method_B(self):\n",
    "        return \"this is method of class D\"\n",
    "\n",
    "# Class B, C, D are subclasses and Class A is superclass    \n",
    "a = A()\n",
    "b = B()\n",
    "c = C()\n",
    "d = D()\n",
    "\n",
    "print(a.method_A())\n",
    "print(b.method_B())\n",
    "print(b.method_A())   # objects of class B, C and D are able to access method of class A because Class A is superclass. \n",
    "print(c.method_A())\n",
    "print(d.method_A())\n"
   ]
  },
  {
   "cell_type": "code",
   "execution_count": null,
   "id": "1cb6ee8d",
   "metadata": {},
   "outputs": [],
   "source": []
  }
 ],
 "metadata": {
  "kernelspec": {
   "display_name": "Python 3 (ipykernel)",
   "language": "python",
   "name": "python3"
  },
  "language_info": {
   "codemirror_mode": {
    "name": "ipython",
    "version": 3
   },
   "file_extension": ".py",
   "mimetype": "text/x-python",
   "name": "python",
   "nbconvert_exporter": "python",
   "pygments_lexer": "ipython3",
   "version": "3.9.12"
  }
 },
 "nbformat": 4,
 "nbformat_minor": 5
}
