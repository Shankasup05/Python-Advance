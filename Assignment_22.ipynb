{
 "cells": [
  {
   "cell_type": "markdown",
   "id": "d569c874",
   "metadata": {},
   "source": [
    "### Q1. What are the benefits of the built-in array package, if any?"
   ]
  },
  {
   "cell_type": "markdown",
   "id": "7396db14",
   "metadata": {},
   "source": [
    " Arrays represent multiple data items of the same type using a single name.In arrays, the elements can be \n",
    "accessed randomly by using the index number. Arrays allocate memory in contiguous memory locations for all its\n",
    "elements. Hence there is no chance of extra memory being allocated in case of arrays. This avoids memory \n",
    "overflow or shortage of memory in arrays."
   ]
  },
  {
   "cell_type": "markdown",
   "id": "788b657e",
   "metadata": {},
   "source": [
    "### Q2. What are some of the array package&#39;s limitations?"
   ]
  },
  {
   "cell_type": "markdown",
   "id": "11c0d849",
   "metadata": {},
   "source": [
    "The number of elements to be stored in an array should be known in advance. An array is a static structure \n",
    "     (which means the array is of fixed size). Once declared the size of the array cannot be modified. \n",
    "The memory which is allocated to it cannot be increased or decreased. Insertion and deletion are quite difficult in an \n",
    "array as the elements are stored in consecutive memory locations and the shifting operation is costly. \n",
    "Allocating more memory than the requirement leads to wastage of memory space and less allocation of memory also leads to a problem."
   ]
  },
  {
   "cell_type": "markdown",
   "id": "1b076b2f",
   "metadata": {},
   "source": [
    "### Q3. Describe the main differences between the array and numpy packages."
   ]
  },
  {
   "cell_type": "markdown",
   "id": "d28e729a",
   "metadata": {},
   "source": [
    "The array package doesn't provide any help with numerical calculation with the items insdie it in number form \n",
    "      while NumPy give you a wide variety of numerical operations. An array is a single dimensional entity which hold\n",
    "      the numerical data, while numpy can have more than 1 dimension.In case of array, item can be accessed by its\n",
    "      index position and it is easy task while in numpy item is accessed by its column and row index, which makes \n",
    "      it slightly time taking. Same goes with appending operation.In case of array we do not form a tabular \n",
    "      structure, while in numpy it forms a tabular structure."
   ]
  },
  {
   "cell_type": "markdown",
   "id": "4e965715",
   "metadata": {},
   "source": [
    "### Q4. Explain the distinctions between the empty, ones, and zeros functions."
   ]
  },
  {
   "cell_type": "markdown",
   "id": "6d2fccd6",
   "metadata": {},
   "source": [
    " Empty function: An empty function is a function that does not contain any statement within its body. If you \n",
    "      try to write a function definition without any statement in python ,it will return an error. To avoid this,\n",
    "      we use pass statement. pass is a special statement in Python that does nothing. It only works as a dummy \n",
    "      statement ones: This function returns a new array of given shape and data type, where the element’s value is 1.\n",
    "      zeros: This function returns a new array of given shape and data type, where the element’s value is 0"
   ]
  },
  {
   "cell_type": "markdown",
   "id": "e6262b68",
   "metadata": {},
   "source": [
    "### Q5. In the fromfunction function, which is used to construct new arrays, what is the role of the callable argument?"
   ]
  },
  {
   "cell_type": "markdown",
   "id": "448647b5",
   "metadata": {},
   "source": [
    " Its function is to execute the function over each coordinate and the resulting array. \n",
    "The function is called with N parameters, where N is the rank of shape. Each parameter represents the coordinates of the array \n",
    "varying along a specific axis."
   ]
  },
  {
   "cell_type": "markdown",
   "id": "9c728ffa",
   "metadata": {},
   "source": [
    "### Q6. What happens when a numpy array is combined with a single-value operand (a scalar, such as an int or a floating-point value) through addition, as in the expression A + n?"
   ]
  },
  {
   "cell_type": "code",
   "execution_count": 2,
   "id": "a5c6a75e",
   "metadata": {},
   "outputs": [
    {
     "name": "stdout",
     "output_type": "stream",
     "text": [
      "[[0 1 2]\n",
      " [3 4 5]\n",
      " [6 7 8]]\n",
      "\n",
      "[[1 2 3]\n",
      " [4 5 6]\n",
      " [7 8 9]]\n"
     ]
    }
   ],
   "source": [
    "# Ans : If any scaler value such as integer is added to the numpy array then all the elements inside the array \n",
    "#       will add that value in it.\n",
    "#       Example :\n",
    "import numpy as np\n",
    "a=np.arange(9).reshape(3,3)\n",
    "print(a)\n",
    "print()\n",
    "print(a+1)"
   ]
  },
  {
   "cell_type": "markdown",
   "id": "e79e43c0",
   "metadata": {},
   "source": [
    "### Q7. Can array-to-scalar operations use combined operation-assign operators (such as += or *=)? What is the outcome?"
   ]
  },
  {
   "cell_type": "markdown",
   "id": "ccb1e52b",
   "metadata": {},
   "source": [
    " It will do the operation as per operators. Like if we use + operand it will update the current array by adding \n",
    "and when we use '*', it will update by multiplying."
   ]
  },
  {
   "cell_type": "code",
   "execution_count": 3,
   "id": "eeb3d5cb",
   "metadata": {},
   "outputs": [
    {
     "name": "stdout",
     "output_type": "stream",
     "text": [
      "[[1 2 3]\n",
      " [4 5 6]\n",
      " [7 8 9]]\n"
     ]
    }
   ],
   "source": [
    "a+=1\n",
    "print(a)"
   ]
  },
  {
   "cell_type": "code",
   "execution_count": 4,
   "id": "a75ec62d",
   "metadata": {},
   "outputs": [
    {
     "name": "stdout",
     "output_type": "stream",
     "text": [
      "[[ 5 10 15]\n",
      " [20 25 30]\n",
      " [35 40 45]]\n"
     ]
    }
   ],
   "source": [
    "a*=5\n",
    "print(a)"
   ]
  },
  {
   "cell_type": "markdown",
   "id": "68539a23",
   "metadata": {},
   "source": [
    "### Q8. Does a numpy array contain fixed-length strings? What happens if you allocate a longer string to one of these arrays?"
   ]
  },
  {
   "cell_type": "code",
   "execution_count": 10,
   "id": "686b81b1",
   "metadata": {},
   "outputs": [
    {
     "data": {
      "text/plain": [
       "array(['ram', 'mohan', 'shiva'], dtype='<U5')"
      ]
     },
     "execution_count": 10,
     "metadata": {},
     "output_type": "execute_result"
    }
   ],
   "source": [
    "# Ans : Yes it is possible that we can include a string of fixed length in numpy array. The dtype of any numpy array \n",
    "#       containing string values is the maximum length of any string present in the array.\n",
    "#       Once set, it will only be able to store new string having length not more than the maximum length at the time \n",
    "#       of the creation. If we try to reassign some another string value having length greater than the maximum length\n",
    "#       of the existing elements, it simply discards all the values beyond the maximum length accept upto those values \n",
    "#       which are under the limit.\n",
    "import numpy as np\n",
    "name = np.array(['ram', 'mohan', 'shiva'])\n",
    "name"
   ]
  },
  {
   "cell_type": "code",
   "execution_count": 11,
   "id": "415016b4",
   "metadata": {},
   "outputs": [
    {
     "name": "stdout",
     "output_type": "stream",
     "text": [
      "['radhe' 'mohan' 'shiva']\n"
     ]
    }
   ],
   "source": [
    "name[name=='ram']= 'radheshyam'\n",
    "print(name)"
   ]
  },
  {
   "cell_type": "markdown",
   "id": "25b0b9c5",
   "metadata": {},
   "source": [
    "### Q9. What happens when you combine two numpy arrays using an operation like addition (+) or multiplication (*)? What are the conditions for combining two numpy arrays?"
   ]
  },
  {
   "cell_type": "code",
   "execution_count": 12,
   "id": "2942736b",
   "metadata": {},
   "outputs": [
    {
     "data": {
      "text/plain": [
       "array([[ 5, 10, 15],\n",
       "       [20, 25, 30],\n",
       "       [35, 40, 45]])"
      ]
     },
     "execution_count": 12,
     "metadata": {},
     "output_type": "execute_result"
    }
   ],
   "source": [
    "# Ans : It will simply add or multiply element to element at same position.The only requirement which must be met are:\n",
    "#      1)Data type should be same.\n",
    "#      2) Shape of the two matrices must be same\n",
    "#      Example is as follows :\n",
    "a1=a\n",
    "a1"
   ]
  },
  {
   "cell_type": "code",
   "execution_count": 13,
   "id": "0c2ac03d",
   "metadata": {},
   "outputs": [
    {
     "data": {
      "text/plain": [
       "array([[ 7, 12, 17],\n",
       "       [22, 27, 32],\n",
       "       [37, 42, 47]])"
      ]
     },
     "execution_count": 13,
     "metadata": {},
     "output_type": "execute_result"
    }
   ],
   "source": [
    "a2=a+2\n",
    "a2"
   ]
  },
  {
   "cell_type": "code",
   "execution_count": 14,
   "id": "3367e48c",
   "metadata": {},
   "outputs": [
    {
     "data": {
      "text/plain": [
       "array([[12, 22, 32],\n",
       "       [42, 52, 62],\n",
       "       [72, 82, 92]])"
      ]
     },
     "execution_count": 14,
     "metadata": {},
     "output_type": "execute_result"
    }
   ],
   "source": [
    "a1+a2"
   ]
  },
  {
   "cell_type": "code",
   "execution_count": 15,
   "id": "efb615ee",
   "metadata": {},
   "outputs": [
    {
     "data": {
      "text/plain": [
       "array([[  35,  120,  255],\n",
       "       [ 440,  675,  960],\n",
       "       [1295, 1680, 2115]])"
      ]
     },
     "execution_count": 15,
     "metadata": {},
     "output_type": "execute_result"
    }
   ],
   "source": [
    "a1*a2"
   ]
  },
  {
   "cell_type": "code",
   "execution_count": 16,
   "id": "be4959e9",
   "metadata": {},
   "outputs": [
    {
     "ename": "ValueError",
     "evalue": "operands could not be broadcast together with shapes (3,3) (9,1) ",
     "output_type": "error",
     "traceback": [
      "\u001b[1;31m---------------------------------------------------------------------------\u001b[0m",
      "\u001b[1;31mValueError\u001b[0m                                Traceback (most recent call last)",
      "Input \u001b[1;32mIn [16]\u001b[0m, in \u001b[0;36m<cell line: 1>\u001b[1;34m()\u001b[0m\n\u001b[1;32m----> 1\u001b[0m \u001b[43ma1\u001b[49m\u001b[38;5;241;43m+\u001b[39;49m\u001b[43ma2\u001b[49m\u001b[38;5;241;43m.\u001b[39;49m\u001b[43mreshape\u001b[49m\u001b[43m(\u001b[49m\u001b[38;5;241;43m9\u001b[39;49m\u001b[43m,\u001b[49m\u001b[38;5;241;43m1\u001b[39;49m\u001b[43m)\u001b[49m\n",
      "\u001b[1;31mValueError\u001b[0m: operands could not be broadcast together with shapes (3,3) (9,1) "
     ]
    }
   ],
   "source": [
    "a1+a2.reshape(9,1)"
   ]
  },
  {
   "cell_type": "code",
   "execution_count": 17,
   "id": "a2317921",
   "metadata": {},
   "outputs": [
    {
     "ename": "ValueError",
     "evalue": "operands could not be broadcast together with shapes (3,3) (9,1) ",
     "output_type": "error",
     "traceback": [
      "\u001b[1;31m---------------------------------------------------------------------------\u001b[0m",
      "\u001b[1;31mValueError\u001b[0m                                Traceback (most recent call last)",
      "Input \u001b[1;32mIn [17]\u001b[0m, in \u001b[0;36m<cell line: 1>\u001b[1;34m()\u001b[0m\n\u001b[1;32m----> 1\u001b[0m \u001b[43ma1\u001b[49m\u001b[38;5;241;43m*\u001b[39;49m\u001b[43ma2\u001b[49m\u001b[38;5;241;43m.\u001b[39;49m\u001b[43mreshape\u001b[49m\u001b[43m(\u001b[49m\u001b[38;5;241;43m9\u001b[39;49m\u001b[43m,\u001b[49m\u001b[38;5;241;43m1\u001b[39;49m\u001b[43m)\u001b[49m\n",
      "\u001b[1;31mValueError\u001b[0m: operands could not be broadcast together with shapes (3,3) (9,1) "
     ]
    }
   ],
   "source": [
    "a1*a2.reshape(9,1)"
   ]
  },
  {
   "cell_type": "markdown",
   "id": "c00dcfc1",
   "metadata": {},
   "source": [
    "### Q10. What is the best way to use a Boolean array to mask another array?"
   ]
  },
  {
   "cell_type": "code",
   "execution_count": 19,
   "id": "9c7f74b0",
   "metadata": {},
   "outputs": [
    {
     "name": "stdout",
     "output_type": "stream",
     "text": [
      "[True, True, masked, masked]\n",
      "1\n"
     ]
    }
   ],
   "source": [
    "\n",
    "y = np.array([True,True,False,True])          \n",
    "x = np.array([1,2,3,4])         \n",
    "m = np.ma.masked_where(x>2,y)  \n",
    "print(list(m))\n",
    "print(m.ndim)"
   ]
  },
  {
   "cell_type": "markdown",
   "id": "a19edd5d",
   "metadata": {},
   "source": [
    "### Q11. What are three different ways to get the standard deviation of a wide collection of data using both standard Python and its packages? Sort the three of them by how quickly they execute."
   ]
  },
  {
   "cell_type": "code",
   "execution_count": null,
   "id": "85cd966b",
   "metadata": {},
   "outputs": [],
   "source": [
    "# Ans : Standard deviation can be calculated in amny ways. If wee see the formula of SD, it says \n",
    "#       std= Square Root of [ Summation of [square of (x-mean)/number of observation] ] .So this can be achive by:\n",
    "#       1)Using math module :\n",
    "import math\n",
    "N = 1\n",
    "avg=a\n",
    "total=N\n",
    "x=[1,2]\n",
    "SD=math.sqrt((1-a)**2+(2-a)**2/N)"
   ]
  },
  {
   "cell_type": "code",
   "execution_count": null,
   "id": "eead54dd",
   "metadata": {},
   "outputs": [],
   "source": [
    "#       2)Using Numpy Array package\n",
    "import numpy as np\n",
    "SD=np.std(x)"
   ]
  },
  {
   "cell_type": "code",
   "execution_count": null,
   "id": "54731740",
   "metadata": {},
   "outputs": [],
   "source": [
    "#       3) General calculation without using any package\n",
    "SD= (((1-avg)**2 + (2-avg)**2)/N)**1/2"
   ]
  }
 ],
 "metadata": {
  "kernelspec": {
   "display_name": "Python 3 (ipykernel)",
   "language": "python",
   "name": "python3"
  },
  "language_info": {
   "codemirror_mode": {
    "name": "ipython",
    "version": 3
   },
   "file_extension": ".py",
   "mimetype": "text/x-python",
   "name": "python",
   "nbconvert_exporter": "python",
   "pygments_lexer": "ipython3",
   "version": "3.9.12"
  }
 },
 "nbformat": 4,
 "nbformat_minor": 5
}
